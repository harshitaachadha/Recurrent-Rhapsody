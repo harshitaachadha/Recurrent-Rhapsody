{
 "cells": [
  {
   "cell_type": "markdown",
   "id": "36562f7e",
   "metadata": {},
   "source": [
    "The data set used is LMD-aligned - A subset of 45,129 files from LMD-full which have been matched to entries in the Million Song Dataset. <a href = \"https://colinraffel.com/projects/lmd/\"> Linked here</a><br><br> first we download the tar.gz file ()<br><br> then we load the data and get a sense of how its stored.\n"
   ]
  },
  {
   "cell_type": "code",
   "execution_count": null,
   "id": "0f6fe9b2",
   "metadata": {},
   "outputs": [],
   "source": []
  }
 ],
 "metadata": {
  "kernelspec": {
   "display_name": "Python 3",
   "language": "python",
   "name": "python3"
  },
  "language_info": {
   "codemirror_mode": {
    "name": "ipython",
    "version": 3
   },
   "file_extension": ".py",
   "mimetype": "text/x-python",
   "name": "python",
   "nbconvert_exporter": "python",
   "pygments_lexer": "ipython3",
   "version": "3.9.16"
  }
 },
 "nbformat": 4,
 "nbformat_minor": 5
}
