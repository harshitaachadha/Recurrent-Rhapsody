{
  "nbformat": 4,
  "nbformat_minor": 0,
  "metadata": {
    "colab": {
      "provenance": []
    },
    "kernelspec": {
      "name": "python3",
      "display_name": "Python 3"
    },
    "language_info": {
      "name": "python"
    },
    "gpuClass": "standard"
  },
  "cells": [
    {
      "cell_type": "code",
      "execution_count": null,
      "metadata": {
        "id": "U83EsfftqgiI"
      },
      "outputs": [],
      "source": [
        "!pip install -U sentence-transformers"
      ]
    },
    {
      "cell_type": "code",
      "source": [
        "import pandas as pd\n",
        "from langdetect import detect"
      ],
      "metadata": {
        "id": "dTh29VQ3sRoF"
      },
      "execution_count": 2,
      "outputs": []
    },
    {
      "cell_type": "code",
      "source": [
        "#Mounting account's drive\n",
        "from google.colab import drive\n",
        "drive.mount('/content/drive')"
      ],
      "metadata": {
        "colab": {
          "base_uri": "https://localhost:8080/"
        },
        "id": "rtCtRTBxq_q2",
        "outputId": "0914fb2d-5363-4cb7-f626-7c4710a16cdf"
      },
      "execution_count": 1,
      "outputs": [
        {
          "output_type": "stream",
          "name": "stdout",
          "text": [
            "Mounted at /content/drive\n"
          ]
        }
      ]
    },
    {
      "cell_type": "code",
      "source": [
        "#Reading the data from file\n",
        "df = pd.read_csv(\"/content/drive/MyDrive/CSCI6364Proj/matched_lyrics.csv\")"
      ],
      "metadata": {
        "id": "E-qlJaYPsKKM"
      },
      "execution_count": 4,
      "outputs": []
    },
    {
      "cell_type": "code",
      "source": [
        "df.head()"
      ],
      "metadata": {
        "colab": {
          "base_uri": "https://localhost:8080/",
          "height": 206
        },
        "id": "O-90ccADsao0",
        "outputId": "16b24e9e-e872-4ea4-d401-44a5a6043dc9"
      },
      "execution_count": 5,
      "outputs": [
        {
          "output_type": "execute_result",
          "data": {
            "text/plain": [
              "             track_id                                              title  \\\n",
              "0  TRMMMQN128F4238509                       Raspberry Beret (LP Version)   \n",
              "1  TRMMWTG128F4283F07                                      You Needed Me   \n",
              "2  TRMMZRE128F42B799E                                     Sauver L'Amour   \n",
              "3  TRMMZOT128F149E9EE                                             Prayee   \n",
              "4  TRMMIZZ128F4289298  It Keep Rainin' (Tears From My Eyes) (Radio Edit)   \n",
              "\n",
              "               artist_name                                             Lyrics  \n",
              "0  Prince & The Revolution  One, two\\nOne, two, three, uh\\n\\nYeah\\n\\nI was...  \n",
              "1          Roger Whittaker  I cried a tear: you wiped it dry.\\nI was confu...  \n",
              "2         Daniel Balavoine  Partir effacer sur le Gange\\nLa douleur\\nPouvo...  \n",
              "3             The Chantels                                                NaN  \n",
              "4             Bitty McLean  Pretty fallin' tears shining (Yes)\\n(What's th...  "
            ],
            "text/html": [
              "\n",
              "  <div id=\"df-7bef66d6-8413-4e46-b888-1c3643fce343\">\n",
              "    <div class=\"colab-df-container\">\n",
              "      <div>\n",
              "<style scoped>\n",
              "    .dataframe tbody tr th:only-of-type {\n",
              "        vertical-align: middle;\n",
              "    }\n",
              "\n",
              "    .dataframe tbody tr th {\n",
              "        vertical-align: top;\n",
              "    }\n",
              "\n",
              "    .dataframe thead th {\n",
              "        text-align: right;\n",
              "    }\n",
              "</style>\n",
              "<table border=\"1\" class=\"dataframe\">\n",
              "  <thead>\n",
              "    <tr style=\"text-align: right;\">\n",
              "      <th></th>\n",
              "      <th>track_id</th>\n",
              "      <th>title</th>\n",
              "      <th>artist_name</th>\n",
              "      <th>Lyrics</th>\n",
              "    </tr>\n",
              "  </thead>\n",
              "  <tbody>\n",
              "    <tr>\n",
              "      <th>0</th>\n",
              "      <td>TRMMMQN128F4238509</td>\n",
              "      <td>Raspberry Beret (LP Version)</td>\n",
              "      <td>Prince &amp; The Revolution</td>\n",
              "      <td>One, two\\nOne, two, three, uh\\n\\nYeah\\n\\nI was...</td>\n",
              "    </tr>\n",
              "    <tr>\n",
              "      <th>1</th>\n",
              "      <td>TRMMWTG128F4283F07</td>\n",
              "      <td>You Needed Me</td>\n",
              "      <td>Roger Whittaker</td>\n",
              "      <td>I cried a tear: you wiped it dry.\\nI was confu...</td>\n",
              "    </tr>\n",
              "    <tr>\n",
              "      <th>2</th>\n",
              "      <td>TRMMZRE128F42B799E</td>\n",
              "      <td>Sauver L'Amour</td>\n",
              "      <td>Daniel Balavoine</td>\n",
              "      <td>Partir effacer sur le Gange\\nLa douleur\\nPouvo...</td>\n",
              "    </tr>\n",
              "    <tr>\n",
              "      <th>3</th>\n",
              "      <td>TRMMZOT128F149E9EE</td>\n",
              "      <td>Prayee</td>\n",
              "      <td>The Chantels</td>\n",
              "      <td>NaN</td>\n",
              "    </tr>\n",
              "    <tr>\n",
              "      <th>4</th>\n",
              "      <td>TRMMIZZ128F4289298</td>\n",
              "      <td>It Keep Rainin' (Tears From My Eyes) (Radio Edit)</td>\n",
              "      <td>Bitty McLean</td>\n",
              "      <td>Pretty fallin' tears shining (Yes)\\n(What's th...</td>\n",
              "    </tr>\n",
              "  </tbody>\n",
              "</table>\n",
              "</div>\n",
              "      <button class=\"colab-df-convert\" onclick=\"convertToInteractive('df-7bef66d6-8413-4e46-b888-1c3643fce343')\"\n",
              "              title=\"Convert this dataframe to an interactive table.\"\n",
              "              style=\"display:none;\">\n",
              "        \n",
              "  <svg xmlns=\"http://www.w3.org/2000/svg\" height=\"24px\"viewBox=\"0 0 24 24\"\n",
              "       width=\"24px\">\n",
              "    <path d=\"M0 0h24v24H0V0z\" fill=\"none\"/>\n",
              "    <path d=\"M18.56 5.44l.94 2.06.94-2.06 2.06-.94-2.06-.94-.94-2.06-.94 2.06-2.06.94zm-11 1L8.5 8.5l.94-2.06 2.06-.94-2.06-.94L8.5 2.5l-.94 2.06-2.06.94zm10 10l.94 2.06.94-2.06 2.06-.94-2.06-.94-.94-2.06-.94 2.06-2.06.94z\"/><path d=\"M17.41 7.96l-1.37-1.37c-.4-.4-.92-.59-1.43-.59-.52 0-1.04.2-1.43.59L10.3 9.45l-7.72 7.72c-.78.78-.78 2.05 0 2.83L4 21.41c.39.39.9.59 1.41.59.51 0 1.02-.2 1.41-.59l7.78-7.78 2.81-2.81c.8-.78.8-2.07 0-2.86zM5.41 20L4 18.59l7.72-7.72 1.47 1.35L5.41 20z\"/>\n",
              "  </svg>\n",
              "      </button>\n",
              "      \n",
              "  <style>\n",
              "    .colab-df-container {\n",
              "      display:flex;\n",
              "      flex-wrap:wrap;\n",
              "      gap: 12px;\n",
              "    }\n",
              "\n",
              "    .colab-df-convert {\n",
              "      background-color: #E8F0FE;\n",
              "      border: none;\n",
              "      border-radius: 50%;\n",
              "      cursor: pointer;\n",
              "      display: none;\n",
              "      fill: #1967D2;\n",
              "      height: 32px;\n",
              "      padding: 0 0 0 0;\n",
              "      width: 32px;\n",
              "    }\n",
              "\n",
              "    .colab-df-convert:hover {\n",
              "      background-color: #E2EBFA;\n",
              "      box-shadow: 0px 1px 2px rgba(60, 64, 67, 0.3), 0px 1px 3px 1px rgba(60, 64, 67, 0.15);\n",
              "      fill: #174EA6;\n",
              "    }\n",
              "\n",
              "    [theme=dark] .colab-df-convert {\n",
              "      background-color: #3B4455;\n",
              "      fill: #D2E3FC;\n",
              "    }\n",
              "\n",
              "    [theme=dark] .colab-df-convert:hover {\n",
              "      background-color: #434B5C;\n",
              "      box-shadow: 0px 1px 3px 1px rgba(0, 0, 0, 0.15);\n",
              "      filter: drop-shadow(0px 1px 2px rgba(0, 0, 0, 0.3));\n",
              "      fill: #FFFFFF;\n",
              "    }\n",
              "  </style>\n",
              "\n",
              "      <script>\n",
              "        const buttonEl =\n",
              "          document.querySelector('#df-7bef66d6-8413-4e46-b888-1c3643fce343 button.colab-df-convert');\n",
              "        buttonEl.style.display =\n",
              "          google.colab.kernel.accessAllowed ? 'block' : 'none';\n",
              "\n",
              "        async function convertToInteractive(key) {\n",
              "          const element = document.querySelector('#df-7bef66d6-8413-4e46-b888-1c3643fce343');\n",
              "          const dataTable =\n",
              "            await google.colab.kernel.invokeFunction('convertToInteractive',\n",
              "                                                     [key], {});\n",
              "          if (!dataTable) return;\n",
              "\n",
              "          const docLinkHtml = 'Like what you see? Visit the ' +\n",
              "            '<a target=\"_blank\" href=https://colab.research.google.com/notebooks/data_table.ipynb>data table notebook</a>'\n",
              "            + ' to learn more about interactive tables.';\n",
              "          element.innerHTML = '';\n",
              "          dataTable['output_type'] = 'display_data';\n",
              "          await google.colab.output.renderOutput(dataTable, element);\n",
              "          const docLink = document.createElement('div');\n",
              "          docLink.innerHTML = docLinkHtml;\n",
              "          element.appendChild(docLink);\n",
              "        }\n",
              "      </script>\n",
              "    </div>\n",
              "  </div>\n",
              "  "
            ]
          },
          "metadata": {},
          "execution_count": 5
        }
      ]
    },
    {
      "cell_type": "code",
      "source": [
        "df['Lyrics'].isnull().sum()"
      ],
      "metadata": {
        "colab": {
          "base_uri": "https://localhost:8080/"
        },
        "id": "HHflPnw0seWy",
        "outputId": "c42d8717-27fc-4967-a27d-5ac0f97fdfc9"
      },
      "execution_count": 6,
      "outputs": [
        {
          "output_type": "execute_result",
          "data": {
            "text/plain": [
              "418"
            ]
          },
          "metadata": {},
          "execution_count": 6
        }
      ]
    },
    {
      "cell_type": "code",
      "source": [
        "df.shape"
      ],
      "metadata": {
        "colab": {
          "base_uri": "https://localhost:8080/"
        },
        "id": "F3dSS6-zsiXs",
        "outputId": "13496f30-a236-491d-913f-66abacbf6ff6"
      },
      "execution_count": 7,
      "outputs": [
        {
          "output_type": "execute_result",
          "data": {
            "text/plain": [
              "(12447, 4)"
            ]
          },
          "metadata": {},
          "execution_count": 7
        }
      ]
    },
    {
      "cell_type": "code",
      "source": [
        "df.dropna(axis = 0, inplace = True)"
      ],
      "metadata": {
        "id": "WAdeLH2btKuP"
      },
      "execution_count": 8,
      "outputs": []
    },
    {
      "cell_type": "code",
      "source": [
        "df.shape"
      ],
      "metadata": {
        "colab": {
          "base_uri": "https://localhost:8080/"
        },
        "id": "2Xg1AQWvtjem",
        "outputId": "a0d8ab8f-f16f-44a2-92a8-ded34acca24d"
      },
      "execution_count": 9,
      "outputs": [
        {
          "output_type": "execute_result",
          "data": {
            "text/plain": [
              "(12029, 4)"
            ]
          },
          "metadata": {},
          "execution_count": 9
        }
      ]
    },
    {
      "cell_type": "code",
      "source": [
        "df['Lyrics'].isnull().sum()"
      ],
      "metadata": {
        "colab": {
          "base_uri": "https://localhost:8080/"
        },
        "id": "KXvhle6PtpPA",
        "outputId": "bfdad99d-c191-4169-ed29-41ab3d061df2"
      },
      "execution_count": 10,
      "outputs": [
        {
          "output_type": "execute_result",
          "data": {
            "text/plain": [
              "0"
            ]
          },
          "metadata": {},
          "execution_count": 10
        }
      ]
    },
    {
      "cell_type": "code",
      "source": [
        "df['Lyrics'][2905]"
      ],
      "metadata": {
        "colab": {
          "base_uri": "https://localhost:8080/",
          "height": 107
        },
        "id": "bmD60XCd3hEX",
        "outputId": "53819d6d-5b3a-4470-ba2b-8c98ab36c26a"
      },
      "execution_count": 11,
      "outputs": [
        {
          "output_type": "execute_result",
          "data": {
            "text/plain": [
              "\"Colore le monde\\nSans feutres, sans épreuves ni bombes\\nIndolore les murs\\nEt coule dans le fleuve la facture\\nEn monnaie de singe\\nFraîche, blanche comme le linge\\nÀ jamais répand\\nDu fard sur les hommes, car le temps\\n\\nColore la foule, colore mes veines\\nChaque jour il me révèle\\nEn chair de poule, en bleu du ciel\\nEt la foule sort de mes veines\\nOui comme le temps est un ami\\nIl colore mon pays\\n\\nDes dieux, mes soeurs\\nJ'en vois de toutes les couleurs\\nPour des cieux, mes frères\\n...\\n\\n******* This Lyrics is NOT for Commercial use *******\""
            ],
            "application/vnd.google.colaboratory.intrinsic+json": {
              "type": "string"
            }
          },
          "metadata": {},
          "execution_count": 11
        }
      ]
    },
    {
      "cell_type": "code",
      "source": [
        "lyrics_list = df.Lyrics.values.tolist()\n",
        "len(lyrics_list)"
      ],
      "metadata": {
        "colab": {
          "base_uri": "https://localhost:8080/"
        },
        "id": "WdrDshDqttCo",
        "outputId": "c04d5c62-eda0-423f-e9df-efa6e1723da6"
      },
      "execution_count": 12,
      "outputs": [
        {
          "output_type": "execute_result",
          "data": {
            "text/plain": [
              "12029"
            ]
          },
          "metadata": {},
          "execution_count": 12
        }
      ]
    },
    {
      "cell_type": "code",
      "source": [
        "track_list = df.track_id.values.tolist()\n",
        "len(track_list)"
      ],
      "metadata": {
        "colab": {
          "base_uri": "https://localhost:8080/"
        },
        "id": "B8tY2qsS74Nn",
        "outputId": "e704ee4d-416a-494e-b378-3a6afb48aed0"
      },
      "execution_count": 40,
      "outputs": [
        {
          "output_type": "execute_result",
          "data": {
            "text/plain": [
              "12029"
            ]
          },
          "metadata": {},
          "execution_count": 40
        }
      ]
    },
    {
      "cell_type": "code",
      "source": [
        "count = 0\n",
        "l_list = []\n",
        "t_list = []\n",
        "for i in range (0,len(lyrics_list)):\n",
        "  count=count+1\n",
        "  print(count)\n",
        "  try:\n",
        "    if (detect(lyrics_list[i])=='en'):\n",
        "      final = lyrics_list[i].replace('\\n','')\n",
        "      final = final.replace('******* This Lyrics is NOT for Commercial use *******','')\n",
        "      l_list.append(final)\n",
        "      t_list.append(track_list[i])\n",
        "    else:\n",
        "      continue\n",
        "  except:\n",
        "    continue\n",
        "len(l_list)"
      ],
      "metadata": {
        "id": "TrDtTIuEt82H"
      },
      "execution_count": null,
      "outputs": []
    },
    {
      "cell_type": "code",
      "source": [
        "from sentence_transformers import SentenceTransformer\n",
        "model = SentenceTransformer('bert-base-nli-mean-tokens')"
      ],
      "metadata": {
        "id": "1H0bkpweuopx"
      },
      "execution_count": 25,
      "outputs": []
    },
    {
      "cell_type": "code",
      "source": [
        "#Encoding:\n",
        "sen_embeddings = []\n",
        "count = 0\n",
        "for item in l_list:\n",
        "  count=count+1\n",
        "  print(count)\n",
        "  se = model.encode(item)\n",
        "  sen_embeddings.append(se)"
      ],
      "metadata": {
        "id": "D1I6Pd65wQxa"
      },
      "execution_count": null,
      "outputs": []
    },
    {
      "cell_type": "code",
      "source": [
        "#Store sentences & embeddings on disc\n",
        "\n",
        "import pickle\n",
        "with open('/content/drive/MyDrive/CSCI6364Proj/embeddingscomp2VF.pkl', \"wb\") as fOut:\n",
        "    pickle.dump({'sentences': l_list[:10], 'embeddings': sen_embeddings}, fOut, protocol=pickle.HIGHEST_PROTOCOL)"
      ],
      "metadata": {
        "id": "LCn3ze0OxFwm"
      },
      "execution_count": 17,
      "outputs": []
    },
    {
      "cell_type": "code",
      "source": [
        "from sklearn.metrics.pairwise import cosine_similarity\n",
        "#calculating cosine similarity for first two songs\n",
        "ans = cosine_similarity([tok],sen_embeddings)"
      ],
      "metadata": {
        "id": "zm2-jRvEwn2e"
      },
      "execution_count": 33,
      "outputs": []
    },
    {
      "cell_type": "code",
      "source": [
        "#Load sentences & embeddings from disc\n",
        "import pickle\n",
        "with open('/content/drive/MyDrive/CSCI6364Proj/embeddingscomp2VF.pkl', \"rb\") as fIn:\n",
        "    stored_data = pickle.load(fIn)\n",
        "    stored_sentences = stored_data['sentences']\n",
        "    stored_embeddings = stored_data['embeddings']"
      ],
      "metadata": {
        "id": "023P4HqQxHW_"
      },
      "execution_count": 6,
      "outputs": []
    },
    {
      "cell_type": "code",
      "source": [
        "tok = model.encode(\"I love you like a love song yeah i don't know what it mean i think you could be in the corner take a chance to you and i know that you're in any way i can do i don't want to go like you don't know don't you wanna give me that i won't take a little love from your life i want to make you mine i want to break my life i want to break you all i want to make you go ooh\")"
      ],
      "metadata": {
        "id": "QfLfv5ng4t0k"
      },
      "execution_count": 26,
      "outputs": []
    },
    {
      "cell_type": "code",
      "source": [
        "import csv\n",
        "with open('/content/drive/MyDrive/CSCI6364Proj/t_list.csv', 'w', newline='') as myfile:\n",
        "     wr = csv.writer(myfile, quoting=csv.QUOTE_ALL)\n",
        "     wr.writerow(t_list)"
      ],
      "metadata": {
        "id": "1AFhD4my_i-o"
      },
      "execution_count": 63,
      "outputs": []
    },
    {
      "cell_type": "markdown",
      "source": [
        "## Usage\n"
      ],
      "metadata": {
        "id": "kBsm5aqO5t8o"
      }
    },
    {
      "cell_type": "code",
      "source": [
        "#Mounting account's drive\n",
        "from google.colab import drive\n",
        "drive.mount('/content/drive')"
      ],
      "metadata": {
        "colab": {
          "base_uri": "https://localhost:8080/"
        },
        "id": "tAcy3XJsBAeJ",
        "outputId": "f12ead33-dc72-4af8-ac29-43a0bb507c09"
      },
      "execution_count": 2,
      "outputs": [
        {
          "output_type": "stream",
          "name": "stdout",
          "text": [
            "Drive already mounted at /content/drive; to attempt to forcibly remount, call drive.mount(\"/content/drive\", force_remount=True).\n"
          ]
        }
      ]
    },
    {
      "cell_type": "code",
      "source": [
        "#load the model\n",
        "!pip install -U sentence-transformers\n",
        "from sentence_transformers import SentenceTransformer\n",
        "model = SentenceTransformer('bert-base-nli-mean-tokens')"
      ],
      "metadata": {
        "id": "OWNtxPTf57w8"
      },
      "execution_count": null,
      "outputs": []
    },
    {
      "cell_type": "code",
      "source": [
        "#convert given text into embedding\n",
        "text=\"the sky is blue and the home is on your back kicked in the street take a chance on a walk on the borderline on the borderline oh oh no ma and the night look out of the door and the night of the fantasy yeah i'm gonna get you a rocket man on a man watch out man on the prowl man you know what a gun for a big man with a big man with a big man with a big man\"\n",
        "tok = model.encode(text)"
      ],
      "metadata": {
        "id": "j37165zd5wR3"
      },
      "execution_count": 11,
      "outputs": []
    },
    {
      "cell_type": "code",
      "source": [
        "#load the embedding files\n",
        "import pickle\n",
        "with open('/content/drive/MyDrive/CSCI6364Proj/embeddingscomp2VF.pkl', \"rb\") as fIn:\n",
        "    stored_data = pickle.load(fIn)\n",
        "    stored_sentences = stored_data['sentences']\n",
        "    stored_embeddings = stored_data['embeddings']"
      ],
      "metadata": {
        "id": "3ZoSDm5j6ByC"
      },
      "execution_count": 12,
      "outputs": []
    },
    {
      "cell_type": "code",
      "source": [
        "#calculate similarity\n",
        "from sklearn.metrics.pairwise import cosine_similarity\n",
        "ans = cosine_similarity([tok],stored_embeddings)"
      ],
      "metadata": {
        "id": "roN02tL76Grw"
      },
      "execution_count": 13,
      "outputs": []
    },
    {
      "cell_type": "code",
      "source": [
        "#getting three most similar songs\n",
        "import heapq\n",
        "import csv\n",
        "sim_list = ans[0]\n",
        "#loading all available track id's\n",
        "file = open(\"/content/drive/MyDrive/CSCI6364Proj/t_list.csv\", \"r\")\n",
        "data = list(csv.reader(file, delimiter=\",\"))\n",
        "t_list = data[0]\n",
        "file.close()\n",
        "result = heapq.nlargest(3, zip(sim_list,t_list))"
      ],
      "metadata": {
        "id": "sW_Ao5KQ6eqU"
      },
      "execution_count": 14,
      "outputs": []
    },
    {
      "cell_type": "code",
      "source": [
        "result"
      ],
      "metadata": {
        "colab": {
          "base_uri": "https://localhost:8080/"
        },
        "id": "SNPIToNO-NeR",
        "outputId": "3a12d9ad-4cbd-4b3a-df20-cf8580a20e9a"
      },
      "execution_count": 15,
      "outputs": [
        {
          "output_type": "execute_result",
          "data": {
            "text/plain": [
              "[(0.78255653, 'TRMWKZD128F425A2F6'),\n",
              " (0.74746364, 'TRCWOZX12903CC84D1'),\n",
              " (0.73515254, 'TRXKILT128F9332E60')]"
            ]
          },
          "metadata": {},
          "execution_count": 15
        }
      ]
    },
    {
      "cell_type": "code",
      "source": [
        "prim_seq = []\n",
        "for i in range(len(result)):\n",
        "  prim_seq.append(result[i][1])\n",
        "print(prim_seq)"
      ],
      "metadata": {
        "colab": {
          "base_uri": "https://localhost:8080/"
        },
        "id": "pCnAynTO-Ry_",
        "outputId": "68ce8b4b-9c82-4ec1-f610-fa76b6c7742c"
      },
      "execution_count": 16,
      "outputs": [
        {
          "output_type": "stream",
          "name": "stdout",
          "text": [
            "['TRMWKZD128F425A2F6', 'TRCWOZX12903CC84D1', 'TRXKILT128F9332E60']\n"
          ]
        }
      ]
    }
  ]
}