{
  "cells": [
    {
      "cell_type": "markdown",
      "metadata": {
        "id": "XGjlT3AgDM20"
      },
      "source": [
        "# LSTM Lyrics Generation Model"
      ]
    },
    {
      "cell_type": "markdown",
      "metadata": {
        "id": "eos0nC3oDM22"
      },
      "source": [
        "At first, we import the relevant libraries. The data for lyrics generation comes from kaggle linked <a href ='https://www.kaggle.com/datasets/neisse/scrapped-lyrics-from-6-genres'> here.</a> This dataset has songs from many language, but here we will focus only on english language lyrics first. So we refine this dataset so as to only get the english language songs. Initially there are about 3 lakh 80 thousand songs in this dataset."
      ]
    },
    {
      "cell_type": "code",
      "execution_count": 1,
      "metadata": {
        "id": "yp-q80M_DM22"
      },
      "outputs": [],
      "source": [
        "import pandas as pd\n",
        "import numpy as np\n",
        "import seaborn as sns\n",
        "import matplotlib.pyplot as plt\n",
        "from wordcloud import WordCloud, STOPWORDS, ImageColorGenerator\n",
        "import string, os \n",
        "import tensorflow as tf\n",
        "\n",
        "# keras module for building LSTM \n",
        "from tensorflow.keras.utils import to_categorical\n",
        "from tensorflow.keras.preprocessing.sequence import pad_sequences\n",
        "from tensorflow.keras.layers import Embedding, Dropout, LSTM, Dense, Bidirectional \n",
        "from tensorflow.keras.preprocessing.text import Tokenizer\n",
        "from tensorflow.keras.callbacks import EarlyStopping\n",
        "from tensorflow.keras.models import Sequential\n",
        "\n",
        "import matplotlib.pyplot as plt\n",
        "import seaborn as sns"
      ]
    },
    {
      "cell_type": "code",
      "execution_count": 2,
      "metadata": {
        "colab": {
          "base_uri": "https://localhost:8080/"
        },
        "id": "361w9ZfpDM23",
        "outputId": "86dc5fd1-cd3b-42b3-d3f2-0d6f2419ba7f"
      },
      "outputs": [
        {
          "output_type": "stream",
          "name": "stdout",
          "text": [
            "Mounted at /content/drive\n"
          ]
        }
      ],
      "source": [
        "# csv file\n",
        "#importing the data downloaded from the link above\n",
        "from google.colab import drive\n",
        "drive.mount('/content/drive')\n",
        "df = pd.read_csv(\"/content/drive/MyDrive/college 6 sem shit/lyrics-data.csv\")"
      ]
    },
    {
      "cell_type": "code",
      "execution_count": 3,
      "metadata": {
        "colab": {
          "base_uri": "https://localhost:8080/",
          "height": 337
        },
        "id": "qGuu9jQgDM24",
        "outputId": "7ef2c6ae-30aa-4b5d-c923-c73c8d30998f"
      },
      "outputs": [
        {
          "output_type": "execute_result",
          "data": {
            "text/plain": [
              "             ALink                            SName  \\\n",
              "0  /ivete-sangalo/                            Arerê   \n",
              "1  /ivete-sangalo/  Se Eu Não Te Amasse Tanto Assim   \n",
              "2  /ivete-sangalo/                      Céu da Boca   \n",
              "3  /ivete-sangalo/            Quando A Chuva Passar   \n",
              "4  /ivete-sangalo/                     Sorte Grande   \n",
              "\n",
              "                                               SLink  \\\n",
              "0                          /ivete-sangalo/arere.html   \n",
              "1  /ivete-sangalo/se-eu-nao-te-amasse-tanto-assim...   \n",
              "2                     /ivete-sangalo/chupa-toda.html   \n",
              "3          /ivete-sangalo/quando-a-chuva-passar.html   \n",
              "4                   /ivete-sangalo/sorte-grande.html   \n",
              "\n",
              "                                               Lyric language  \n",
              "0  Tudo o que eu quero nessa vida,\\nToda vida, é\\...       pt  \n",
              "1  Meu coração\\nSem direção\\nVoando só por voar\\n...       pt  \n",
              "2  É de babaixá!\\nÉ de balacubaca!\\nÉ de babaixá!...       pt  \n",
              "3  Quando a chuva passar\\n\\nPra quê falar\\nSe voc...       pt  \n",
              "4  A minha sorte grande foi você cair do céu\\nMin...       pt  "
            ],
            "text/html": [
              "\n",
              "  <div id=\"df-f2a6f365-a3ce-4d08-8486-9610b213f43b\">\n",
              "    <div class=\"colab-df-container\">\n",
              "      <div>\n",
              "<style scoped>\n",
              "    .dataframe tbody tr th:only-of-type {\n",
              "        vertical-align: middle;\n",
              "    }\n",
              "\n",
              "    .dataframe tbody tr th {\n",
              "        vertical-align: top;\n",
              "    }\n",
              "\n",
              "    .dataframe thead th {\n",
              "        text-align: right;\n",
              "    }\n",
              "</style>\n",
              "<table border=\"1\" class=\"dataframe\">\n",
              "  <thead>\n",
              "    <tr style=\"text-align: right;\">\n",
              "      <th></th>\n",
              "      <th>ALink</th>\n",
              "      <th>SName</th>\n",
              "      <th>SLink</th>\n",
              "      <th>Lyric</th>\n",
              "      <th>language</th>\n",
              "    </tr>\n",
              "  </thead>\n",
              "  <tbody>\n",
              "    <tr>\n",
              "      <th>0</th>\n",
              "      <td>/ivete-sangalo/</td>\n",
              "      <td>Arerê</td>\n",
              "      <td>/ivete-sangalo/arere.html</td>\n",
              "      <td>Tudo o que eu quero nessa vida,\\nToda vida, é\\...</td>\n",
              "      <td>pt</td>\n",
              "    </tr>\n",
              "    <tr>\n",
              "      <th>1</th>\n",
              "      <td>/ivete-sangalo/</td>\n",
              "      <td>Se Eu Não Te Amasse Tanto Assim</td>\n",
              "      <td>/ivete-sangalo/se-eu-nao-te-amasse-tanto-assim...</td>\n",
              "      <td>Meu coração\\nSem direção\\nVoando só por voar\\n...</td>\n",
              "      <td>pt</td>\n",
              "    </tr>\n",
              "    <tr>\n",
              "      <th>2</th>\n",
              "      <td>/ivete-sangalo/</td>\n",
              "      <td>Céu da Boca</td>\n",
              "      <td>/ivete-sangalo/chupa-toda.html</td>\n",
              "      <td>É de babaixá!\\nÉ de balacubaca!\\nÉ de babaixá!...</td>\n",
              "      <td>pt</td>\n",
              "    </tr>\n",
              "    <tr>\n",
              "      <th>3</th>\n",
              "      <td>/ivete-sangalo/</td>\n",
              "      <td>Quando A Chuva Passar</td>\n",
              "      <td>/ivete-sangalo/quando-a-chuva-passar.html</td>\n",
              "      <td>Quando a chuva passar\\n\\nPra quê falar\\nSe voc...</td>\n",
              "      <td>pt</td>\n",
              "    </tr>\n",
              "    <tr>\n",
              "      <th>4</th>\n",
              "      <td>/ivete-sangalo/</td>\n",
              "      <td>Sorte Grande</td>\n",
              "      <td>/ivete-sangalo/sorte-grande.html</td>\n",
              "      <td>A minha sorte grande foi você cair do céu\\nMin...</td>\n",
              "      <td>pt</td>\n",
              "    </tr>\n",
              "  </tbody>\n",
              "</table>\n",
              "</div>\n",
              "      <button class=\"colab-df-convert\" onclick=\"convertToInteractive('df-f2a6f365-a3ce-4d08-8486-9610b213f43b')\"\n",
              "              title=\"Convert this dataframe to an interactive table.\"\n",
              "              style=\"display:none;\">\n",
              "        \n",
              "  <svg xmlns=\"http://www.w3.org/2000/svg\" height=\"24px\"viewBox=\"0 0 24 24\"\n",
              "       width=\"24px\">\n",
              "    <path d=\"M0 0h24v24H0V0z\" fill=\"none\"/>\n",
              "    <path d=\"M18.56 5.44l.94 2.06.94-2.06 2.06-.94-2.06-.94-.94-2.06-.94 2.06-2.06.94zm-11 1L8.5 8.5l.94-2.06 2.06-.94-2.06-.94L8.5 2.5l-.94 2.06-2.06.94zm10 10l.94 2.06.94-2.06 2.06-.94-2.06-.94-.94-2.06-.94 2.06-2.06.94z\"/><path d=\"M17.41 7.96l-1.37-1.37c-.4-.4-.92-.59-1.43-.59-.52 0-1.04.2-1.43.59L10.3 9.45l-7.72 7.72c-.78.78-.78 2.05 0 2.83L4 21.41c.39.39.9.59 1.41.59.51 0 1.02-.2 1.41-.59l7.78-7.78 2.81-2.81c.8-.78.8-2.07 0-2.86zM5.41 20L4 18.59l7.72-7.72 1.47 1.35L5.41 20z\"/>\n",
              "  </svg>\n",
              "      </button>\n",
              "      \n",
              "  <style>\n",
              "    .colab-df-container {\n",
              "      display:flex;\n",
              "      flex-wrap:wrap;\n",
              "      gap: 12px;\n",
              "    }\n",
              "\n",
              "    .colab-df-convert {\n",
              "      background-color: #E8F0FE;\n",
              "      border: none;\n",
              "      border-radius: 50%;\n",
              "      cursor: pointer;\n",
              "      display: none;\n",
              "      fill: #1967D2;\n",
              "      height: 32px;\n",
              "      padding: 0 0 0 0;\n",
              "      width: 32px;\n",
              "    }\n",
              "\n",
              "    .colab-df-convert:hover {\n",
              "      background-color: #E2EBFA;\n",
              "      box-shadow: 0px 1px 2px rgba(60, 64, 67, 0.3), 0px 1px 3px 1px rgba(60, 64, 67, 0.15);\n",
              "      fill: #174EA6;\n",
              "    }\n",
              "\n",
              "    [theme=dark] .colab-df-convert {\n",
              "      background-color: #3B4455;\n",
              "      fill: #D2E3FC;\n",
              "    }\n",
              "\n",
              "    [theme=dark] .colab-df-convert:hover {\n",
              "      background-color: #434B5C;\n",
              "      box-shadow: 0px 1px 3px 1px rgba(0, 0, 0, 0.15);\n",
              "      filter: drop-shadow(0px 1px 2px rgba(0, 0, 0, 0.3));\n",
              "      fill: #FFFFFF;\n",
              "    }\n",
              "  </style>\n",
              "\n",
              "      <script>\n",
              "        const buttonEl =\n",
              "          document.querySelector('#df-f2a6f365-a3ce-4d08-8486-9610b213f43b button.colab-df-convert');\n",
              "        buttonEl.style.display =\n",
              "          google.colab.kernel.accessAllowed ? 'block' : 'none';\n",
              "\n",
              "        async function convertToInteractive(key) {\n",
              "          const element = document.querySelector('#df-f2a6f365-a3ce-4d08-8486-9610b213f43b');\n",
              "          const dataTable =\n",
              "            await google.colab.kernel.invokeFunction('convertToInteractive',\n",
              "                                                     [key], {});\n",
              "          if (!dataTable) return;\n",
              "\n",
              "          const docLinkHtml = 'Like what you see? Visit the ' +\n",
              "            '<a target=\"_blank\" href=https://colab.research.google.com/notebooks/data_table.ipynb>data table notebook</a>'\n",
              "            + ' to learn more about interactive tables.';\n",
              "          element.innerHTML = '';\n",
              "          dataTable['output_type'] = 'display_data';\n",
              "          await google.colab.output.renderOutput(dataTable, element);\n",
              "          const docLink = document.createElement('div');\n",
              "          docLink.innerHTML = docLinkHtml;\n",
              "          element.appendChild(docLink);\n",
              "        }\n",
              "      </script>\n",
              "    </div>\n",
              "  </div>\n",
              "  "
            ]
          },
          "metadata": {},
          "execution_count": 3
        }
      ],
      "source": [
        "# first few rows\n",
        "df.head()"
      ]
    },
    {
      "cell_type": "markdown",
      "metadata": {
        "id": "eRdTCRtxDM24"
      },
      "source": [
        "We now delete the Alink, SName, SLink columns as tgey are irrelevant to present application."
      ]
    },
    {
      "cell_type": "code",
      "execution_count": 4,
      "metadata": {
        "id": "gX_Av_R-DM25"
      },
      "outputs": [],
      "source": [
        "# drop\n",
        "df.drop(['ALink','SName','SLink'],axis=1,inplace=True)"
      ]
    },
    {
      "cell_type": "code",
      "execution_count": 5,
      "metadata": {
        "colab": {
          "base_uri": "https://localhost:8080/"
        },
        "id": "EXq5oxZtDM25",
        "outputId": "c8c1318a-f7d5-4198-9dfc-327960031522"
      },
      "outputs": [
        {
          "output_type": "execute_result",
          "data": {
            "text/plain": [
              "(379931, 2)"
            ]
          },
          "metadata": {},
          "execution_count": 5
        }
      ],
      "source": [
        "# shape\n",
        "df.shape"
      ]
    },
    {
      "cell_type": "code",
      "execution_count": 6,
      "metadata": {
        "colab": {
          "base_uri": "https://localhost:8080/"
        },
        "id": "_BkrHUnPDM25",
        "outputId": "546c7307-4675-41d5-df3d-b1a92cfe62fd"
      },
      "outputs": [
        {
          "output_type": "execute_result",
          "data": {
            "text/plain": [
              "en     191814\n",
              "pt     157393\n",
              "es       9917\n",
              "rw       1679\n",
              "it       1432\n",
              "fr       1225\n",
              "de        844\n",
              "fi        145\n",
              "sv        112\n",
              "ro         97\n",
              "no         89\n",
              "is         86\n",
              "tl         69\n",
              "pl         47\n",
              "gl         36\n",
              "ga         32\n",
              "tr         32\n",
              "id         26\n",
              "cy         23\n",
              "su         19\n",
              "af         19\n",
              "sw         19\n",
              "ko         17\n",
              "nl         14\n",
              "da         13\n",
              "ca         13\n",
              "et         13\n",
              "ms          8\n",
              "ja          7\n",
              "st          7\n",
              "ht          5\n",
              "gd          4\n",
              "ru          4\n",
              "ar          4\n",
              "eu          4\n",
              "cs          3\n",
              "ku          3\n",
              "ny          3\n",
              "mg          3\n",
              "lg          2\n",
              "jw          2\n",
              "hu          2\n",
              "vi          1\n",
              "iw          1\n",
              "sr          1\n",
              "hmn         1\n",
              "hr          1\n",
              "fa          1\n",
              "sq          1\n",
              "zh          1\n",
              "lv          1\n",
              "sl          1\n",
              "Name: language, dtype: int64"
            ]
          },
          "metadata": {},
          "execution_count": 6
        }
      ],
      "source": [
        "# value count of language types\n",
        "df['language'].value_counts()"
      ]
    },
    {
      "cell_type": "code",
      "execution_count": 7,
      "metadata": {
        "colab": {
          "base_uri": "https://localhost:8080/"
        },
        "id": "KnYrT5DCDM25",
        "outputId": "1b4dba17-d201-42dc-9bb8-f7a175e76647"
      },
      "outputs": [
        {
          "output_type": "stream",
          "name": "stdout",
          "text": [
            "The percentage of lyrics retained is 50.48653571306369\n"
          ]
        }
      ],
      "source": [
        "initial_len = len(df) #obtaining the initial number of lyrics from all languages\n",
        "#dropping all non english songs\n",
        "df = df[df['language']=='en']\n",
        "print('The percentage of lyrics retained is {}'. format((len(df)/initial_len)*100))"
      ]
    },
    {
      "cell_type": "markdown",
      "metadata": {
        "id": "xwUxNhWjDM26"
      },
      "source": [
        "Doing further housekeeping stuff."
      ]
    },
    {
      "cell_type": "code",
      "execution_count": 8,
      "metadata": {
        "colab": {
          "base_uri": "https://localhost:8080/",
          "height": 206
        },
        "id": "QExuUUtvDM26",
        "outputId": "bf9177da-2c1a-4c5e-c505-a7d579c9f37b"
      },
      "outputs": [
        {
          "output_type": "execute_result",
          "data": {
            "text/plain": [
              "                                               Lyric  Number_of_words\n",
              "0  I feel so unsure\\nAs I take your hand and lead...              299\n",
              "1  Don't let them fool, ya\\nOr even try to school...              161\n",
              "2  Baby, let's cruise, away from here\\nDon't be c...              159\n",
              "3  Know it sounds funny\\nBut, I just can't stand ...              175\n",
              "4  You've got that look again\\nThe one I hoped I ...              215"
            ],
            "text/html": [
              "\n",
              "  <div id=\"df-44cca262-8ffc-4c25-afa2-56d1a49ebd3d\">\n",
              "    <div class=\"colab-df-container\">\n",
              "      <div>\n",
              "<style scoped>\n",
              "    .dataframe tbody tr th:only-of-type {\n",
              "        vertical-align: middle;\n",
              "    }\n",
              "\n",
              "    .dataframe tbody tr th {\n",
              "        vertical-align: top;\n",
              "    }\n",
              "\n",
              "    .dataframe thead th {\n",
              "        text-align: right;\n",
              "    }\n",
              "</style>\n",
              "<table border=\"1\" class=\"dataframe\">\n",
              "  <thead>\n",
              "    <tr style=\"text-align: right;\">\n",
              "      <th></th>\n",
              "      <th>Lyric</th>\n",
              "      <th>Number_of_words</th>\n",
              "    </tr>\n",
              "  </thead>\n",
              "  <tbody>\n",
              "    <tr>\n",
              "      <th>0</th>\n",
              "      <td>I feel so unsure\\nAs I take your hand and lead...</td>\n",
              "      <td>299</td>\n",
              "    </tr>\n",
              "    <tr>\n",
              "      <th>1</th>\n",
              "      <td>Don't let them fool, ya\\nOr even try to school...</td>\n",
              "      <td>161</td>\n",
              "    </tr>\n",
              "    <tr>\n",
              "      <th>2</th>\n",
              "      <td>Baby, let's cruise, away from here\\nDon't be c...</td>\n",
              "      <td>159</td>\n",
              "    </tr>\n",
              "    <tr>\n",
              "      <th>3</th>\n",
              "      <td>Know it sounds funny\\nBut, I just can't stand ...</td>\n",
              "      <td>175</td>\n",
              "    </tr>\n",
              "    <tr>\n",
              "      <th>4</th>\n",
              "      <td>You've got that look again\\nThe one I hoped I ...</td>\n",
              "      <td>215</td>\n",
              "    </tr>\n",
              "  </tbody>\n",
              "</table>\n",
              "</div>\n",
              "      <button class=\"colab-df-convert\" onclick=\"convertToInteractive('df-44cca262-8ffc-4c25-afa2-56d1a49ebd3d')\"\n",
              "              title=\"Convert this dataframe to an interactive table.\"\n",
              "              style=\"display:none;\">\n",
              "        \n",
              "  <svg xmlns=\"http://www.w3.org/2000/svg\" height=\"24px\"viewBox=\"0 0 24 24\"\n",
              "       width=\"24px\">\n",
              "    <path d=\"M0 0h24v24H0V0z\" fill=\"none\"/>\n",
              "    <path d=\"M18.56 5.44l.94 2.06.94-2.06 2.06-.94-2.06-.94-.94-2.06-.94 2.06-2.06.94zm-11 1L8.5 8.5l.94-2.06 2.06-.94-2.06-.94L8.5 2.5l-.94 2.06-2.06.94zm10 10l.94 2.06.94-2.06 2.06-.94-2.06-.94-.94-2.06-.94 2.06-2.06.94z\"/><path d=\"M17.41 7.96l-1.37-1.37c-.4-.4-.92-.59-1.43-.59-.52 0-1.04.2-1.43.59L10.3 9.45l-7.72 7.72c-.78.78-.78 2.05 0 2.83L4 21.41c.39.39.9.59 1.41.59.51 0 1.02-.2 1.41-.59l7.78-7.78 2.81-2.81c.8-.78.8-2.07 0-2.86zM5.41 20L4 18.59l7.72-7.72 1.47 1.35L5.41 20z\"/>\n",
              "  </svg>\n",
              "      </button>\n",
              "      \n",
              "  <style>\n",
              "    .colab-df-container {\n",
              "      display:flex;\n",
              "      flex-wrap:wrap;\n",
              "      gap: 12px;\n",
              "    }\n",
              "\n",
              "    .colab-df-convert {\n",
              "      background-color: #E8F0FE;\n",
              "      border: none;\n",
              "      border-radius: 50%;\n",
              "      cursor: pointer;\n",
              "      display: none;\n",
              "      fill: #1967D2;\n",
              "      height: 32px;\n",
              "      padding: 0 0 0 0;\n",
              "      width: 32px;\n",
              "    }\n",
              "\n",
              "    .colab-df-convert:hover {\n",
              "      background-color: #E2EBFA;\n",
              "      box-shadow: 0px 1px 2px rgba(60, 64, 67, 0.3), 0px 1px 3px 1px rgba(60, 64, 67, 0.15);\n",
              "      fill: #174EA6;\n",
              "    }\n",
              "\n",
              "    [theme=dark] .colab-df-convert {\n",
              "      background-color: #3B4455;\n",
              "      fill: #D2E3FC;\n",
              "    }\n",
              "\n",
              "    [theme=dark] .colab-df-convert:hover {\n",
              "      background-color: #434B5C;\n",
              "      box-shadow: 0px 1px 3px 1px rgba(0, 0, 0, 0.15);\n",
              "      filter: drop-shadow(0px 1px 2px rgba(0, 0, 0, 0.3));\n",
              "      fill: #FFFFFF;\n",
              "    }\n",
              "  </style>\n",
              "\n",
              "      <script>\n",
              "        const buttonEl =\n",
              "          document.querySelector('#df-44cca262-8ffc-4c25-afa2-56d1a49ebd3d button.colab-df-convert');\n",
              "        buttonEl.style.display =\n",
              "          google.colab.kernel.accessAllowed ? 'block' : 'none';\n",
              "\n",
              "        async function convertToInteractive(key) {\n",
              "          const element = document.querySelector('#df-44cca262-8ffc-4c25-afa2-56d1a49ebd3d');\n",
              "          const dataTable =\n",
              "            await google.colab.kernel.invokeFunction('convertToInteractive',\n",
              "                                                     [key], {});\n",
              "          if (!dataTable) return;\n",
              "\n",
              "          const docLinkHtml = 'Like what you see? Visit the ' +\n",
              "            '<a target=\"_blank\" href=https://colab.research.google.com/notebooks/data_table.ipynb>data table notebook</a>'\n",
              "            + ' to learn more about interactive tables.';\n",
              "          element.innerHTML = '';\n",
              "          dataTable['output_type'] = 'display_data';\n",
              "          await google.colab.output.renderOutput(dataTable, element);\n",
              "          const docLink = document.createElement('div');\n",
              "          docLink.innerHTML = docLinkHtml;\n",
              "          element.appendChild(docLink);\n",
              "        }\n",
              "      </script>\n",
              "    </div>\n",
              "  </div>\n",
              "  "
            ]
          },
          "metadata": {},
          "execution_count": 8
        }
      ],
      "source": [
        "#we now reset the index and drop the language column also\n",
        "df.reset_index(inplace=True)\n",
        "df.drop(['language'],axis=1,inplace=True)\n",
        "df.drop(['index'],axis=1,inplace=True)\n",
        "df['Number_of_words'] = df['Lyric'].apply(lambda x:len(str(x).split()))\n",
        "df.head()"
      ]
    },
    {
      "cell_type": "code",
      "execution_count": 9,
      "metadata": {
        "colab": {
          "base_uri": "https://localhost:8080/"
        },
        "id": "qksVkQuQDM27",
        "outputId": "47757772-8953-4271-ca4e-77e329749963"
      },
      "outputs": [
        {
          "output_type": "execute_result",
          "data": {
            "text/plain": [
              "count    191814.000000\n",
              "mean        250.229159\n",
              "std         159.288438\n",
              "min           1.000000\n",
              "25%         147.000000\n",
              "50%         211.000000\n",
              "75%         304.000000\n",
              "max        3422.000000\n",
              "Name: Number_of_words, dtype: float64"
            ]
          },
          "metadata": {},
          "execution_count": 9
        }
      ],
      "source": [
        "# statistical info\n",
        "df['Number_of_words'].describe()"
      ]
    },
    {
      "cell_type": "markdown",
      "metadata": {
        "id": "C3zIY0p_DM27"
      },
      "source": [
        "The average song length here is 250, so for ease of training, we only use a subset of the data at first with 100 or less words"
      ]
    },
    {
      "cell_type": "code",
      "source": [
        "df = df[:700]"
      ],
      "metadata": {
        "id": "ZSeTWFSHXYw_"
      },
      "execution_count": 10,
      "outputs": []
    },
    {
      "cell_type": "code",
      "execution_count": 11,
      "metadata": {
        "colab": {
          "base_uri": "https://localhost:8080/"
        },
        "id": "fe1PDiRbDM27",
        "outputId": "938f8b3b-7f46-4c90-cdea-0c56ac9dcc7a"
      },
      "outputs": [
        {
          "output_type": "execute_result",
          "data": {
            "text/plain": [
              "(700, 2)"
            ]
          },
          "metadata": {},
          "execution_count": 11
        }
      ],
      "source": [
        "df.shape"
      ]
    },
    {
      "cell_type": "code",
      "execution_count": 12,
      "metadata": {
        "colab": {
          "base_uri": "https://localhost:8080/",
          "height": 787
        },
        "id": "Bw9ly1pZDM28",
        "outputId": "0b54e0a5-ea0a-4ab1-9296-c4e4f350b8dc"
      },
      "outputs": [
        {
          "output_type": "stream",
          "name": "stderr",
          "text": [
            "<ipython-input-12-8b69dec7c5b1>:4: UserWarning: \n",
            "\n",
            "`distplot` is a deprecated function and will be removed in seaborn v0.14.0.\n",
            "\n",
            "Please adapt your code to use either `displot` (a figure-level function with\n",
            "similar flexibility) or `histplot` (an axes-level function for histograms).\n",
            "\n",
            "For a guide to updating your code to use the new functions, please see\n",
            "https://gist.github.com/mwaskom/de44147ed2974457ad6372750bbe5751\n",
            "\n",
            "  sns.distplot(df['Number_of_words'],kde = False,color=\"red\",bins=200)\n"
          ]
        },
        {
          "output_type": "execute_result",
          "data": {
            "text/plain": [
              "Text(0.5, 1.0, 'Frequency distribution of number of words for each text extracted')"
            ]
          },
          "metadata": {},
          "execution_count": 12
        },
        {
          "output_type": "display_data",
          "data": {
            "text/plain": [
              "<Figure size 1200x600 with 1 Axes>"
            ],
            "image/png": "[encoded data removed]"
          },
          "metadata": {}
        }
      ],
      "source": [
        "import matplotlib.pyplot as plt\n",
        "plt.style.use('ggplot')\n",
        "plt.figure(figsize=(12,6))\n",
        "sns.distplot(df['Number_of_words'],kde = False,color=\"red\",bins=200)\n",
        "plt.title(\"Frequency distribution of number of words for each text extracted\", size=20)"
      ]
    },
    {
      "cell_type": "code",
      "execution_count": null,
      "metadata": {
        "collapsed": true,
        "id": "s6fpD37pDM28"
      },
      "outputs": [],
      "source": [
        "qw# Tokenization\n",
        "tokenizer = Tokenizer()\n",
        "tokenizer.fit_on_texts(df['Lyric'].astype(str).str.lower())\n",
        "\n",
        "total_words = len(tokenizer.word_index)+1\n",
        "tokenized_sentences = tokenizer.texts_to_sequences(df['Lyric'].astype(str))\n",
        "tokenized_sentences[0]"
      ]
    },
    {
      "cell_type": "code",
      "execution_count": null,
      "metadata": {
        "collapsed": true,
        "id": "bNAa0KgTDM28"
      },
      "outputs": [],
      "source": [
        "# Slash sequences into n gram sequence\n",
        "count = 0\n",
        "input_sequences = list()\n",
        "for i in tokenized_sentences:\n",
        "    count = count+1\n",
        "    print(count)\n",
        "    for t in range(1, len(i)):\n",
        "        n_gram_sequence = i[:t+1]\n",
        "        input_sequences.append(n_gram_sequence)\n",
        "        \n",
        "# Pre padding\n",
        "max_sequence_len = max([len(x) for x in input_sequences])\n",
        "input_sequences = np.array(pad_sequences(input_sequences, maxlen=max_sequence_len, padding='pre'))"
      ]
    },
    {
      "cell_type": "code",
      "execution_count": 15,
      "metadata": {
        "colab": {
          "base_uri": "https://localhost:8080/"
        },
        "id": "a7Xc4I3gDM28",
        "outputId": "1ea9b0f4-bdd4-4b02-9aed-3959179e5228"
      },
      "outputs": [
        {
          "output_type": "execute_result",
          "data": {
            "text/plain": [
              "array([[   0,    0,    0, ...,    0,    2,   68],\n",
              "       [   0,    0,    0, ...,    2,   68,   22],\n",
              "       [   0,    0,    0, ...,   68,   22, 5450],\n",
              "       ...,\n",
              "       [   0,    0,    0, ...,   60,   13,  281],\n",
              "       [   0,    0,    0, ...,   13,  281,    7],\n",
              "       [   0,    0,    0, ...,  281,    7,  563]], dtype=int32)"
            ]
          },
          "metadata": {},
          "execution_count": 15
        }
      ],
      "source": [
        "input_sequences[:10]"
      ]
    },
    {
      "cell_type": "markdown",
      "metadata": {
        "id": "lk1ckwN0DM29"
      },
      "source": [
        "Setting the N-grams sequence as predictors and the next word of the N-gram as label. "
      ]
    },
    {
      "cell_type": "code",
      "execution_count": 16,
      "metadata": {
        "id": "HvPZTDlPDM29"
      },
      "outputs": [],
      "source": [
        "# create predictors and label\n",
        "X, labels = input_sequences[:,:-1],input_sequences[:,-1]\n",
        "y = tf.keras.utils.to_categorical(labels, num_classes=total_words)"
      ]
    },
    {
      "cell_type": "markdown",
      "metadata": {
        "id": "wZKQM7NZDM29"
      },
      "source": [
        "We now create and train the LSTM model"
      ]
    },
    {
      "cell_type": "code",
      "execution_count": 17,
      "metadata": {
        "id": "6kkxESDKDM29",
        "colab": {
          "base_uri": "https://localhost:8080/"
        },
        "outputId": "0d3a6015-5d44-43f3-a4cc-5feae7b02d65"
      },
      "outputs": [
        {
          "output_type": "stream",
          "name": "stdout",
          "text": [
            "Epoch 1/10\n",
            "8563/8563 [==============================] - 1121s 130ms/step - loss: 5.4911 - accuracy: 0.1174\n",
            "Epoch 2/10\n",
            "8563/8563 [==============================] - 974s 114ms/step - loss: 4.4497 - accuracy: 0.2289\n",
            "Epoch 3/10\n",
            "8563/8563 [==============================] - 968s 113ms/step - loss: 3.8684 - accuracy: 0.3037\n",
            "Epoch 4/10\n",
            "8563/8563 [==============================] - 966s 113ms/step - loss: 3.4829 - accuracy: 0.3552\n",
            "Epoch 5/10\n",
            "8563/8563 [==============================] - 963s 112ms/step - loss: 3.2060 - accuracy: 0.3937\n",
            "Epoch 6/10\n",
            "8563/8563 [==============================] - 962s 112ms/step - loss: 3.0042 - accuracy: 0.4217\n",
            "Epoch 7/10\n",
            "8563/8563 [==============================] - 962s 112ms/step - loss: 2.8456 - accuracy: 0.4446\n",
            "Epoch 8/10\n",
            "8563/8563 [==============================] - 963s 112ms/step - loss: 2.7209 - accuracy: 0.4617\n",
            "Epoch 9/10\n",
            "8563/8563 [==============================] - 961s 112ms/step - loss: 2.6233 - accuracy: 0.4742\n",
            "Epoch 10/10\n",
            "8563/8563 [==============================] - 964s 113ms/step - loss: 2.5387 - accuracy: 0.4872\n"
          ]
        }
      ],
      "source": [
        "# create model\n",
        "model = Sequential()\n",
        "model.add(Embedding(total_words, 40, input_length=max_sequence_len-1))\n",
        "model.add(Bidirectional(LSTM(250)))\n",
        "model.add(Dropout(0.1))\n",
        "model.add(Dense(total_words, activation='softmax'))\n",
        "model.compile(loss='categorical_crossentropy', optimizer='adam', metrics=['accuracy'])\n",
        "earlystop = EarlyStopping(monitor='loss', min_delta=0, patience=3, verbose=0, mode='auto')\n",
        "history = model.fit(X, y, epochs=10, verbose=1, callbacks=[earlystop])"
      ]
    },
    {
      "cell_type": "code",
      "execution_count": 20,
      "metadata": {
        "id": "221l9NGdDM29",
        "colab": {
          "base_uri": "https://localhost:8080/",
          "height": 448
        },
        "outputId": "67c86673-ed84-4a1d-af7f-1a4245ec775d"
      },
      "outputs": [
        {
          "output_type": "display_data",
          "data": {
            "text/plain": [
              "<Figure size 640x480 with 1 Axes>"
            ],
            "image/png": "[encoded data removed]"
          },
          "metadata": {}
        },
        {
          "output_type": "display_data",
          "data": {
            "text/plain": [
              "<Figure size 640x480 with 0 Axes>"
            ]
          },
          "metadata": {}
        }
      ],
      "source": [
        "# plot the accuracy\n",
        "plt.plot(history.history['accuracy'], label='train acc')\n",
        "plt.legend()\n",
        "plt.show()\n",
        "plt.savefig('AccVal_acc')"
      ]
    },
    {
      "cell_type": "markdown",
      "metadata": {
        "id": "hCTrH6uHDM2-"
      },
      "source": [
        "# Generate new song lyrics"
      ]
    },
    {
      "cell_type": "markdown",
      "metadata": {
        "id": "FP8QRjFODM2-"
      },
      "source": [
        "Now our model is ready.So lets write the function to predict the next word based on the input words (or seed text). We will first tokenize the seed text, pad the sequences and pass into the trained model to get predicted word. The multiple predicted words can be appended together to get predicted sequence."
      ]
    },
    {
      "cell_type": "code",
      "execution_count": 30,
      "metadata": {
        "id": "my8Y-zY5DM2-"
      },
      "outputs": [],
      "source": [
        "def complete_this_song(seed_text, next_words):\n",
        "    for _ in range(next_words):\n",
        "        token_list = tokenizer.texts_to_sequences([seed_text])[0]\n",
        "        token_list = pad_sequences([token_list], maxlen=max_sequence_len-1, padding='pre')\n",
        "        predict_x=model.predict(token_list, verbose=0) \n",
        "        predicted=np.argmax(predict_x,axis=1)\n",
        "        \n",
        "        output_word = \"\"\n",
        "        for word, index in tokenizer.word_index.items():\n",
        "            if index == predicted:\n",
        "                output_word = word\n",
        "                break\n",
        "        seed_text += \" \" + output_word\n",
        "    return seed_text"
      ]
    },
    {
      "cell_type": "markdown",
      "metadata": {
        "id": "WlxENTAODM2-"
      },
      "source": [
        "Our function is ready so are you ready to generate your own lyrics"
      ]
    },
    {
      "cell_type": "code",
      "execution_count": 31,
      "metadata": {
        "id": "vNEeerlsDM2-",
        "colab": {
          "base_uri": "https://localhost:8080/",
          "height": 53
        },
        "outputId": "df61687d-59e5-48d0-bc0f-1bd13df8e725"
      },
      "outputs": [
        {
          "output_type": "execute_result",
          "data": {
            "text/plain": [
              "'the sky is blue and the world of the world like the world is the one that we spent and i know that i love you and i love you baby i love you but i love you but i love you so i'"
            ],
            "application/vnd.google.colaboratory.intrinsic+json": {
              "type": "string"
            }
          },
          "metadata": {},
          "execution_count": 31
        }
      ],
      "source": [
        "complete_this_song(\"the sky is blue\", 40)"
      ]
    },
    {
      "cell_type": "code",
      "execution_count": 32,
      "metadata": {
        "id": "XBxSbvZZDM2-",
        "colab": {
          "base_uri": "https://localhost:8080/",
          "height": 107
        },
        "outputId": "383896c1-12bc-428a-c27a-450bee4dcf22"
      },
      "outputs": [
        {
          "output_type": "execute_result",
          "data": {
            "text/plain": [
              "\"This is the beginning of the world is the world we are the world is the girl we going in the air then we get the streets we gonna go in the air yeah she's gonna party the sound don't be alarmed but my heart was calling up in the dark like hoo oo oo oo oo oo oo oo oo oo ah ah ah ah ah ah ah ah ah ah ah ah ah ah ah ah ah ah ah ah ah ah ah ah ah ah ah ah ah ah ah ah ah ah ah ah ah ah ah ah ah ah ah ah ah ah ah ah ah ah ah ah ah ah ah ah ah ah ah ah ah ah ah ah ah ah ah ah ah ah ah ah ah ah ah ah ah ah ah ah ah ah\""
            ],
            "application/vnd.google.colaboratory.intrinsic+json": {
              "type": "string"
            }
          },
          "metadata": {},
          "execution_count": 32
        }
      ],
      "source": [
        "complete_this_song(\"This is the beginning\", 140)"
      ]
    },
    {
      "cell_type": "code",
      "execution_count": 33,
      "metadata": {
        "id": "6bRawnLHDM2-",
        "colab": {
          "base_uri": "https://localhost:8080/",
          "height": 89
        },
        "outputId": "b866717c-ff64-442c-fdeb-b365ec516acf"
      },
      "outputs": [
        {
          "output_type": "execute_result",
          "data": {
            "text/plain": [
              "\"everything sucks to go and i don't know what i don't wanna do it anymore you don't have to worry i don't wanna be a murderer that's why i don't know where you don't know it's just a little closer to say what you heard i know you don't know how to feel a dream but i don't wanna know i don't wanna wake up from you i wanna take you and i hope i wanna let you go i don't know\""
            ],
            "application/vnd.google.colaboratory.intrinsic+json": {
              "type": "string"
            }
          },
          "metadata": {},
          "execution_count": 33
        }
      ],
      "source": [
        "complete_this_song(\"everything sucks\", 80)"
      ]
    },
    {
      "cell_type": "markdown",
      "metadata": {
        "id": "5NhRcatmDM2_"
      },
      "source": [
        "# Save the model"
      ]
    },
    {
      "cell_type": "code",
      "execution_count": 19,
      "metadata": {
        "id": "5o7trlzNDM2_"
      },
      "outputs": [],
      "source": [
        "# save model\n",
        "from tensorflow.keras.models import load_model\n",
        "model.save('/content/drive/MyDrive/college 6 sem shit/rhapsody_comp1_50word_acc.h5')"
      ]
    },
    {
      "cell_type": "code",
      "source": [
        "from keras.models import load_model\n",
        "model2 = load_model('/content/drive/MyDrive/college 6 sem shit/rhapsody_comp1_50word_acc.h5')"
      ],
      "metadata": {
        "id": "1q6oJYp3Ty_-"
      },
      "execution_count": 34,
      "outputs": []
    }
  ],
  "metadata": {
    "kernelspec": {
      "display_name": "Python 3",
      "language": "python",
      "name": "python3"
    },
    "language_info": {
      "codemirror_mode": {
        "name": "ipython",
        "version": 3
      },
      "file_extension": ".py",
      "mimetype": "text/x-python",
      "name": "python",
      "nbconvert_exporter": "python",
      "pygments_lexer": "ipython3",
      "version": "3.9.16"
    },
    "colab": {
      "provenance": []
    },
    "accelerator": "GPU",
    "gpuClass": "premium"
  },
  "nbformat": 4,
  "nbformat_minor": 0
}